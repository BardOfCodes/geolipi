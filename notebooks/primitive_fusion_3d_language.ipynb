{
 "cells": [
  {
   "cell_type": "markdown",
   "metadata": {},
   "source": [
    "# 3D Primitive Fusion Languages\n",
    "\n",
    "Lots of research papers often try to distill a given 3D shape into a set of primitives. These primitives are often simple shapes such as spheres, cylinders, and cubes. This notebooks shows how GeoLIPI can be used for such representations."
   ]
  },
  {
   "cell_type": "code",
   "execution_count": null,
   "metadata": {},
   "outputs": [],
   "source": [
    "import sys\n",
    "sys.path.append('../')\n",
    "\n",
    "import numpy as np\n",
    "import torch as th\n",
    "import time\n",
    "import matplotlib.pyplot as plt\n",
    "\n",
    "import geolipi.symbolic as gls\n",
    "from geolipi.torch_compute.sphere_marcher import Renderer\n",
    "\n",
    "dtype = th.float32\n",
    "device = th.device(\"cuda\")\n",
    "resolution = (1024, 512)"
   ]
  },
  {
   "cell_type": "code",
   "execution_count": null,
   "metadata": {},
   "outputs": [],
   "source": [
    "# Just use the default settings in the renderer\n",
    "renderer = Renderer(resolution=resolution, device=device, \n",
    "            dtype=dtype, unroll_expression=True, torch_compile=False)\n"
   ]
  },
  {
   "cell_type": "code",
   "execution_count": null,
   "metadata": {},
   "outputs": [],
   "source": [
    "# Single Primitive Cuboids\n",
    "\n",
    "simple_cuboid_expr = gls.Cuboid3D((0.1, 1.2, 0.4))\n",
    "simple_cuboid_expr = simple_cuboid_expr.tensor().cuda()\n",
    "\n",
    "start_time = time.time()\n",
    "image = renderer.render(simple_cuboid_expr)\n",
    "end_time = time.time()\n",
    "print(f\"Time taken: {end_time - start_time} seconds\")\n",
    "plt.figure(figsize=(10, 5))\n",
    "plt.imshow(image.detach().cpu().numpy())\n",
    "plt.axis('off')\n",
    "\n",
    "# Note that inexact SDFs can often fail to render properly. \n",
    "# Inexact SDFs are more useful for occupancy evaluation rather than rendering.\n",
    "\n",
    "simple_quad_expr = gls.EulerRotate3D(gls.InexactSuperQuadrics3D((0.9, 0.9, 0.9), (1.5), (1.2)), (np.pi/2, 0, 0))\n",
    "simple_quad_expr = simple_quad_expr.tensor().cuda()\n",
    "\n",
    "start_time = time.time()\n",
    "image = renderer.render(simple_quad_expr, finite_difference_epsilon=None)\n",
    "end_time = time.time()\n",
    "print(f\"Time taken: {end_time - start_time} seconds\")\n",
    "plt.figure(figsize=(10, 5))\n",
    "plt.imshow(image.detach().cpu().numpy())\n",
    "plt.axis('off')"
   ]
  },
  {
   "cell_type": "code",
   "execution_count": null,
   "metadata": {},
   "outputs": [],
   "source": [
    "# Primitive fusion: Set of Cuboids - Single Hierarchy\n",
    "cuboid_fusion_expr = gls.Union(\n",
    "    gls.Translate3D(gls.RoundedBox3D((0.1, 0.5, 0.1), (0.2)), (0.4, 0.4, 0)),\n",
    "    gls.Translate3D(gls.RoundedBox3D((0.1, 0.5, 0.1), (0.2)), (-0.4, -0.4, 0)),\n",
    ")\n",
    "cuboid_fusion_expr = cuboid_fusion_expr.tensor().cuda()\n",
    "start_time = time.time()\n",
    "image = renderer.render(cuboid_fusion_expr)\n",
    "end_time = time.time()\n",
    "print(f\"Time taken: {end_time - start_time} seconds\")\n",
    "plt.figure(figsize=(10, 5))\n",
    "plt.imshow(image.detach().cpu().numpy())\n",
    "plt.axis('off')\n",
    "\n",
    "# longer expressions\n",
    "N = 10\n",
    "cuboid_list = []\n",
    "for i in range(N):\n",
    "    translate_param = (th.rand(3).cuda() - 0.5) * 4\n",
    "    translate_param[1] = 0\n",
    "    cuboid_list.append(gls.Translate3D(gls.RoundedBox3D((0.1, 0.5, 0.1), (0.05)), translate_param))\n",
    "cuboid_fusion_expr = gls.Union(*cuboid_list)\n",
    "cuboid_fusion_expr = cuboid_fusion_expr.tensor().cuda()\n",
    "start_time = time.time()\n",
    "image = renderer.render(cuboid_fusion_expr)\n",
    "end_time = time.time()\n",
    "print(f\"Time taken: {end_time - start_time} seconds\")\n",
    "plt.figure(figsize=(10, 5))\n",
    "plt.imshow(image.detach().cpu().numpy())\n",
    "plt.axis('off')\n"
   ]
  },
  {
   "cell_type": "code",
   "execution_count": null,
   "metadata": {},
   "outputs": [],
   "source": [
    "# Group them in a hierarchy of unions\n",
    "# longer expressions\n",
    "import time\n",
    "expr = gls.RotationSymmetryY3D(\n",
    "            gls.Translate3D(\n",
    "                gls.Union(\n",
    "                    gls.RoundedBox3D((0.1, 0.5, 0.1), (0.05,)),\n",
    "                    gls.EulerRotate3D(gls.Torus3D((0.5, 0.1)), (np.pi/2, 0, 0))),\n",
    "                (1.5, 0., 1.5)),\n",
    "            np.pi/4, 8)\n",
    "expr = expr.args[0].tensor().cuda()\n",
    "# use compile_expression for faster rendering\n",
    "renderer = Renderer(resolution=resolution, device=device, dtype=dtype, \n",
    "                    recursive_evaluator=False, unroll_expression=True, torch_compile=True)\n",
    "\n",
    "st = time.time()\n",
    "start_time = time.time()\n",
    "image = renderer._compile_render_exprs(expr)\n",
    "start_time = time.time()\n",
    "image = renderer._render_precompiled(expr)\n",
    "end_time = time.time()\n",
    "print(\"Time taken with compilation: \", end_time - start_time)\n",
    "\n",
    "plt.figure(figsize=(10, 5))\n",
    "plt.imshow(image.detach().cpu().numpy())\n",
    "plt.axis('off')\n"
   ]
  },
  {
   "cell_type": "code",
   "execution_count": null,
   "metadata": {},
   "outputs": [],
   "source": [
    "# Use Other Fancy Primitives:\n",
    "fancy_expr = gls.Union(*[\n",
    "    gls.Translate3D(gls.BoxFrame3D((1, 1, 1.), (0.1,)), (-2, 0, 2)),\n",
    "    gls.Translate3D(gls.EulerRotate3D(gls.HexPrism3D((0.5, 0.2)),(-np.pi/2, 0, 0)), (-2, 0, -2)),\n",
    "    gls.Translate3D(gls.EulerRotate3D(gls.DeathStar3D((1.0,), (0.8,), (0.4,)), (-np.pi/4, 0, np.pi/4)), (2, 0, 2)),\n",
    "    gls.Translate3D(gls.EulerRotate3D(gls.SolidAngle3D((0.5,), (1.3, )), (0, 0, 0)), (0, 0, -2))\n",
    "\n",
    "])\n",
    "fancy_expr = fancy_expr.tensor().cuda()\n",
    "image = renderer._compile_render_exprs(fancy_expr)\n",
    "start_time = time.time()\n",
    "image = renderer._render_precompiled(fancy_expr)\n",
    "end_time = time.time()\n",
    "print(f\"Time taken: {end_time - start_time} seconds\")\n",
    "plt.figure(figsize=(10, 5))\n",
    "plt.imshow(image.detach().cpu().numpy())\n",
    "plt.axis('off')"
   ]
  },
  {
   "cell_type": "code",
   "execution_count": null,
   "metadata": {},
   "outputs": [],
   "source": []
  }
 ],
 "metadata": {
  "kernelspec": {
   "display_name": "venv",
   "language": "python",
   "name": "python3"
  },
  "language_info": {
   "codemirror_mode": {
    "name": "ipython",
    "version": 3
   },
   "file_extension": ".py",
   "mimetype": "text/x-python",
   "name": "python",
   "nbconvert_exporter": "python",
   "pygments_lexer": "ipython3",
   "version": "3.10.12"
  }
 },
 "nbformat": 4,
 "nbformat_minor": 2
}
