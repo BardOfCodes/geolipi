{
 "cells": [
  {
   "cell_type": "markdown",
   "metadata": {},
   "source": [
    "# Advanced 3D language\n",
    "\n",
    "GeoLIPI can be used to also define primitives as used in [GeoCODE](https://threedle.github.io/GeoCode/), [SIF](https://arxiv.org/abs/1904.06447), and other 2D-to-3D operators (extrusions/revolutions etc.). This notebook shows examples of such primitives in action."
   ]
  },
  {
   "cell_type": "code",
   "execution_count": null,
   "metadata": {},
   "outputs": [],
   "source": [
    "import sys\n",
    "sys.path.append('../')\n",
    "\n",
    "import numpy as np\n",
    "import torch as th\n",
    "import matplotlib.pyplot as plt\n",
    "\n",
    "import geolipi.symbolic as gls\n",
    "from geolipi.torch_compute.sphere_marcher import Renderer\n",
    "\n",
    "dtype = th.float32\n",
    "device = th.device(\"cuda\")\n",
    "resolution = (512, 256)\n"
   ]
  },
  {
   "cell_type": "code",
   "execution_count": null,
   "metadata": {},
   "outputs": [],
   "source": [
    "# Just use the default settings in the renderer\n",
    "renderer = Renderer(resolution=resolution, device=device, \n",
    "            dtype=dtype, unroll_expression=False, torch_compile=False)\n"
   ]
  },
  {
   "cell_type": "code",
   "execution_count": null,
   "metadata": {},
   "outputs": [],
   "source": [
    "# Advanced Primitives: Extrusion based primitives.\n",
    "expr_set = []\n",
    "p1 = (0.1, 0.3)\n",
    "p2 = (-0, 0, 0)\n",
    "p3 = (-0, -2, 0.0)\n",
    "for i in range(6):\n",
    "    j = i + 1\n",
    "    dist = 2#  * j\n",
    "    theta = np.pi / 3  * j\n",
    "    x = dist * np.cos(theta)\n",
    "    y = dist * np.sin(theta)\n",
    "\n",
    "    expression = gls.QuadraticBezierExtrude3D(\n",
    "                    gls.Box2D(p1),\n",
    "                    p2,\n",
    "                    (0, 0.5, 0),\n",
    "                    (x, -0.2, y),\n",
    "                    (0,))\n",
    "    expr_set.append(expression)\n",
    "\n",
    "    theta = np.pi/6 + np.pi / 3  * j\n",
    "    x = dist * np.cos(theta)\n",
    "    y = dist * np.sin(theta)\n",
    "    expression = gls.QuadraticBezierExtrude3D(\n",
    "                    gls.Box2D(p1),\n",
    "                    p2,\n",
    "                    (0, -0.5, 0),\n",
    "                    (-x, 0.2, -y),\n",
    "                    (0,))\n",
    "    expr_set.append(expression)\n",
    "\n",
    "expression = gls.Union(*expr_set)\n",
    "\n",
    "expression = expression.tensor().cuda()\n",
    "\n",
    "image = renderer.render(expression)\n",
    "plt.figure(figsize=(10, 5))\n",
    "plt.imshow(image.detach().cpu().numpy())\n",
    "plt.axis('off')\n"
   ]
  },
  {
   "cell_type": "code",
   "execution_count": null,
   "metadata": {},
   "outputs": [],
   "source": [
    "# Advanced Primitive: Gaussian based\n",
    "expr_set = []\n",
    "for i in range(30):\n",
    "    position = 0.5 + i * 0.1\n",
    "    theta = np.pi / 5 * i\n",
    "    size = (0.1, 0.1)\n",
    "    expr = gls.InexactAnisotropicGaussian3D(\n",
    "        (position * np.cos(theta), 0, position * np.sin(theta)),\n",
    "        (size[0], 0.1, size[1]),\n",
    "        (-1,))\n",
    "    expr_set.append(expr)\n",
    "\n",
    "expr = gls.Translate3D(gls.Union(*expr_set), (-1, 0, 1))\n",
    "expr = gls.Erode3D(expr, 0.07)\n",
    "# expr = gls.Sphere3D((0.1,))\n",
    "expr = expr.tensor().cuda()\n",
    "print(expr.pretty_print())\n",
    "image = renderer.render(expr,)\n",
    "plt.figure(figsize=(10, 5))\n",
    "plt.imshow(image.detach().cpu().numpy())\n",
    "plt.axis('off')\n"
   ]
  },
  {
   "cell_type": "code",
   "execution_count": null,
   "metadata": {},
   "outputs": [],
   "source": [
    "# Advanced Primitive: Revolution & Extrusion of 2D SDFs.\n",
    "\n",
    "expr = gls.Circle2D((0.2,))\n",
    "# expr = gls.SimpleExtrusion3D(expr, (0.7))\n",
    "expr = gls.Revolution3D(expr, (1.2))\n",
    "expr = gls.EulerRotate3D(expr, (np.pi/2, 0, 0))\n",
    "expr = expr.tensor().cuda()\n",
    "\n",
    "print(expr.pretty_print())\n",
    "image = renderer.render(expr,)\n",
    "plt.figure(figsize=(10, 5))\n",
    "plt.imshow(image.detach().cpu().numpy())\n",
    "plt.axis('off')"
   ]
  },
  {
   "cell_type": "code",
   "execution_count": null,
   "metadata": {},
   "outputs": [],
   "source": []
  }
 ],
 "metadata": {
  "kernelspec": {
   "display_name": "venv",
   "language": "python",
   "name": "python3"
  },
  "language_info": {
   "codemirror_mode": {
    "name": "ipython",
    "version": 3
   },
   "file_extension": ".py",
   "mimetype": "text/x-python",
   "name": "python",
   "nbconvert_exporter": "python",
   "pygments_lexer": "ipython3",
   "version": "3.10.12"
  }
 },
 "nbformat": 4,
 "nbformat_minor": 2
}
